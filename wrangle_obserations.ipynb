{
 "cells": [
  {
   "cell_type": "markdown",
   "metadata": {},
   "source": [
    "# Wrangle and Analyse Data"
   ]
  },
  {
   "cell_type": "markdown",
   "metadata": {},
   "source": [
    "## Report"
   ]
  },
  {
   "cell_type": "markdown",
   "metadata": {},
   "source": [
    "**WeRateDogs** is a Twitter account that rates people's dogs with a humorous comment about the dog. The account was started in 2015 by college student Matt Nelson, and has received international media attention both for its popularity and for the attention drawn to social media copyright law when it was suspended by Twitter for breaking these aforementioned laws."
   ]
  },
  {
   "cell_type": "markdown",
   "metadata": {},
   "source": [
    "Wrangling process has mainly three stages\n",
    "- Data Gathering\n",
    "- Data Assessment\n",
    "- Data Cleaning"
   ]
  },
  {
   "cell_type": "markdown",
   "metadata": {},
   "source": [
    "### Data Gathering"
   ]
  },
  {
   "cell_type": "markdown",
   "metadata": {},
   "source": [
    "Data for Analysis was gathered from three sources:"
   ]
  },
  {
   "cell_type": "markdown",
   "metadata": {},
   "source": [
    "- Twitter API\n",
    "- URL\n",
    "- Manualy Downloaded Data (.csv)"
   ]
  },
  {
   "cell_type": "markdown",
   "metadata": {},
   "source": [
    "After gathering this data i divivded this data into three dataframes depending on the sources they were gathered from.\n",
    "The following are the three dataframes we formed."
   ]
  },
  {
   "cell_type": "markdown",
   "metadata": {},
   "source": [
    "- twitter_archieved: a dataframe with tweets about dogs with rating and types.\n",
    "- im_preds: A dataframe with information about neural network attempting to predict dog breed based on images\n",
    "- tweets: A dataframe with retweet and favourite tweet count"
   ]
  },
  {
   "cell_type": "markdown",
   "metadata": {},
   "source": [
    "### Data Assessment\n",
    "\n",
    "Data Assessment is a process where we observe the data visually and programmatically for quality and tidiness issues.\n",
    "\n",
    "These are the following observations:"
   ]
  },
  {
   "cell_type": "markdown",
   "metadata": {},
   "source": [
    "## Observations\n",
    "\n",
    "### Quality\n",
    "\n",
    "#### twitter_archieved, , img_preds, tweets\n",
    "\n",
    "- twitter_id is of int datatype instead of object, timestamp is of object datatype rather than DateTime.\n",
    "- in_reply_to_status_id, in_reply_to_user_id, retweeted_status_id, retweeted_status_user_id, retweeted_status_timestamp, img_num have a lot of missing data or are of no use to our analysis.\n",
    "- expanded_urls contain urls which don't exist anymore.\n",
    "- Missing data in name column encoded as the string 'None'\n",
    "- Name column contains some random names like( None, an, a, one.etc).\n",
    "- denominator contains value=10 for 2333 results so considering 10 for other conditions as well.\n",
    "- source column is too long.\n",
    "- ratings_numerator has a few random values.\n",
    "- twitter_archived contains retweets.\n",
    "- Some tweets don't contain useful data.\n",
    "- Words combined using underscore in p1, p2, and p3.\n",
    "\n",
    "\n",
    "### Tidiness\n",
    "\n",
    "#### twitter_archieved , img_preds, tweets\n",
    "\n",
    "- (twitter_archieved) doggo, floofer, pupper and puppo are different dog types which should be in a same column rather than different.\n",
    "- (tweets) retweet_counts and fav_count should be with twitter_archieved instead of a separate table.\n",
    "- (img_preds) Correct predictions and jpg_url should be combined with tweet_data_archived."
   ]
  },
  {
   "cell_type": "markdown",
   "metadata": {},
   "source": [
    "### Data Cleaning"
   ]
  },
  {
   "cell_type": "markdown",
   "metadata": {},
   "source": [
    "Data Cleaning is a process where the necessary changes are made to the data after assessing what is required and what are the required changes to be made to data so that we can et a better analysis for our data.\n",
    "During the assessment we note down all the faults, error, missing data, duplicate data,etc and then modify and merge depending to our requirement which will result in a quality and tidy data.\n",
    "\n",
    "The following changes were made to the data:"
   ]
  },
  {
   "cell_type": "markdown",
   "metadata": {},
   "source": [
    "- Dropping tweets which don't contain any relevant information.\n",
    "- droping retweeted_status_id, retweeted_status_user_id and retweeted_status_timestamp and also removing it's remaining rows.\n",
    "- Dropping columns which are unrequired and contain missing data on large scale (in_reply_to_status_id, in_reply_to_user_id, retweeted_status_id, retweeted_status_user_id, expanded_urls, retweeted_status_timestamp)\n",
    "- Convert datatypes of all tweet_id of all tables to object datatype.\n",
    "- Changing datatype of timestamp.\n",
    "- Replacing names which contain 'None'.\n",
    "- Denominator contains value=10 for 2333 results so considering 10 for other conditions as well.\n",
    "- Modifying source column and replacing source url to it's type.\n",
    "- Replace the underscore separating the words in each of the p* columns in img_pred.\n",
    "- doggo, floofer, pupper and puppo are different dog types which should be in a same column rather than different.\n",
    "- retweet_counts and fav_count should be with twitter_archieved instead of a separate table based on tweet_id.\n",
    "- Merge img_preds_clean with tw_arc_clean to get an all round view of our data set."
   ]
  }
 ],
 "metadata": {
  "kernelspec": {
   "display_name": "Python [conda env:data_analyst] *",
   "language": "python",
   "name": "conda-env-data_analyst-py"
  },
  "language_info": {
   "codemirror_mode": {
    "name": "ipython",
    "version": 3
   },
   "file_extension": ".py",
   "mimetype": "text/x-python",
   "name": "python",
   "nbconvert_exporter": "python",
   "pygments_lexer": "ipython3",
   "version": "3.8.5"
  }
 },
 "nbformat": 4,
 "nbformat_minor": 4
}
